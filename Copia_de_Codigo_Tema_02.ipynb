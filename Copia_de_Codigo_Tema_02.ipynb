{
  "nbformat": 4,
  "nbformat_minor": 0,
  "metadata": {
    "colab": {
      "name": "Copia de Codigo_Tema_02.ipynb",
      "provenance": [],
      "collapsed_sections": [],
      "toc_visible": true,
      "include_colab_link": true
    },
    "kernelspec": {
      "name": "python3",
      "display_name": "Python 3"
    }
  },
  "cells": [
    {
      "cell_type": "markdown",
      "metadata": {
        "id": "view-in-github",
        "colab_type": "text"
      },
      "source": [
        "<a href=\"https://colab.research.google.com/github/angelazs/Tareas/blob/main/Copia_de_Codigo_Tema_02.ipynb\" target=\"_parent\"><img src=\"https://colab.research.google.com/assets/colab-badge.svg\" alt=\"Open In Colab\"/></a>"
      ]
    },
    {
      "cell_type": "markdown",
      "metadata": {
        "id": "55co2gYtZu1G"
      },
      "source": [
        "# Código Tema 02"
      ]
    },
    {
      "cell_type": "markdown",
      "metadata": {
        "id": "ebnWxHzdZ5xC"
      },
      "source": [
        "[![Open In Colab](https://colab.research.google.com/assets/colab-badge.svg)](https://colab.research.google.com/drive/1-KQVyLAXjBUxxC0OM87L8GrgJodjXAcA?usp=sharing)"
      ]
    },
    {
      "cell_type": "code",
      "metadata": {
        "colab": {
          "base_uri": "https://localhost:8080/"
        },
        "id": "BbkI6HAYKCBD",
        "outputId": "75e217bd-6423-4d79-9cb6-29c2e13a048f"
      },
      "source": [
        "# Creando una variable string\r\n",
        "Mensaje = \"Hola\"\r\n",
        "\r\n",
        "# Imprimiendo la variable\r\n",
        "print(Mensaje)\r\n",
        "\r\n",
        "print(\"\\t¿Como estas? \\n \\tEstoy bien\", Mensaje)\r\n",
        "# \\n es un salto de linea\r\n",
        "# \\t es un tabulador"
      ],
      "execution_count": null,
      "outputs": [
        {
          "output_type": "stream",
          "text": [
            "Hola\n",
            "\t¿Como estas? \n",
            " \tEstoy bien Hola\n"
          ],
          "name": "stdout"
        }
      ]
    },
    {
      "cell_type": "code",
      "metadata": {
        "colab": {
          "base_uri": "https://localhost:8080/"
        },
        "id": "2-sxbblI5EHw",
        "outputId": "3cbd5f5a-7918-4b95-ebd5-4caddf406e04"
      },
      "source": [
        "# Concatenacion de strings\r\n",
        "M_1 = \"Estoy\"\r\n",
        "M_2 = \" dando\"\r\n",
        "M_3 = \" una clase\"\r\n",
        "M_total = M_1 + M_2 + M_3\r\n",
        "\r\n",
        "print(M_total)\r\n",
        "print(M_1 + M_2 + M_3 + \" de Python\")\r\n",
        "\r\n",
        "# No hagan esto\r\n",
        "Numero_1 = \"1\"\r\n",
        "Numero_2 = \"2\"\r\n",
        "Numero_3 = Numero_1 + Numero_2\r\n",
        "print(Numero_3)"
      ],
      "execution_count": null,
      "outputs": [
        {
          "output_type": "stream",
          "text": [
            "Estoy dando una clase\n",
            "Estoy dando una clase de Python\n",
            "12\n"
          ],
          "name": "stdout"
        }
      ]
    },
    {
      "cell_type": "code",
      "metadata": {
        "colab": {
          "base_uri": "https://localhost:8080/"
        },
        "id": "VTKpb-LI6T9Q",
        "outputId": "cd656876-9647-463c-ee21-5432057dc8a6"
      },
      "source": [
        "print(\"¿Cual es tu nombre?\")\r\n",
        "\r\n",
        "# Solicitando al usuario un string\r\n",
        "Nombre = input()\r\n",
        "\r\n",
        "#print(Nombre)\r\n",
        "# Solicitando un string al usuario mediante un mensaje\r\n",
        "Apellido = input(\"¿Cual es tu apellido? \")\r\n",
        "\r\n",
        "print(\"Mi nombre es\", Nombre, Apellido)"
      ],
      "execution_count": null,
      "outputs": [
        {
          "output_type": "stream",
          "text": [
            "¿Cual es tu nombre?\n",
            "David\n",
            "¿Cual es tu apellido? Alba\n",
            "Mi nombre es David Alba\n"
          ],
          "name": "stdout"
        }
      ]
    },
    {
      "cell_type": "markdown",
      "metadata": {
        "id": "Jo_03yXKWMnV"
      },
      "source": [
        "#Apuntes de practica\r\n",
        "\r\n"
      ]
    },
    {
      "cell_type": "code",
      "metadata": {
        "id": "yDlAX9y2WZF-",
        "colab": {
          "base_uri": "https://localhost:8080/"
        },
        "outputId": "400fb8fa-3e18-4b7e-a025-7288c3aaa25f"
      },
      "source": [
        "# Creando una variable string\r\n",
        "Mensaje = \"Hola\"\r\n",
        "\r\n",
        "#Imprimiendo variable\r\n",
        "print(Mensaje)\r\n",
        "\r\n",
        "print(\"\\tComo estas? \\n Estoy bien\", Mensaje)  \r\n",
        "\r\n",
        "#\\n = Salto de linea\r\n",
        "#\\t = Tabulador"
      ],
      "execution_count": null,
      "outputs": [
        {
          "output_type": "stream",
          "text": [
            "Hola\n",
            "\tComo estas? \n",
            " Estoy bien Hola\n"
          ],
          "name": "stdout"
        }
      ]
    },
    {
      "cell_type": "code",
      "metadata": {
        "id": "Af_6-O5XgqgY",
        "colab": {
          "base_uri": "https://localhost:8080/"
        },
        "outputId": "e1908281-f2de-4cb5-b357-78c39990ba16"
      },
      "source": [
        "#Concatenacion de strings\r\n",
        "M_1 = \"Estoy\"\r\n",
        "M_2 = \" Comiendo \"\r\n",
        "M_3 = \" Papitas\"\r\n",
        "M_total = M_1 + M_2 + M_3\r\n",
        "\r\n",
        "print(M_total)\r\n",
        "print(M_1 + M_2 + M_3 + \" de limon\")\r\n",
        "\r\n",
        "#Codigo de numeros MAL\r\n",
        "Numero_1 = \"1\"\r\n",
        "Numero_2 = \"2\"\r\n",
        "Numero_3 = Numero_1 + Numero_2\r\n",
        "print(Numero_3)"
      ],
      "execution_count": null,
      "outputs": [
        {
          "output_type": "stream",
          "text": [
            "Estoy Comiendo  Papitas\n",
            "Estoy Comiendo  Papitas de limon\n",
            "12\n"
          ],
          "name": "stdout"
        }
      ]
    },
    {
      "cell_type": "code",
      "metadata": {
        "id": "Niy0C-kgrtaG",
        "colab": {
          "base_uri": "https://localhost:8080/"
        },
        "outputId": "9af7acb0-733e-4f98-ff50-30ec50481ce5"
      },
      "source": [
        "print(\"¿Cual es tu nombre?\")\r\n",
        "\r\n",
        "#Solicitando al usuario un string\r\n",
        "Nombre = input()\r\n",
        "\r\n",
        "#print(nombre)\r\n",
        "#Solicitando un string al usuario mediante un mensaje\r\n",
        "Apellido = input(\"¿Cuál es tu apellido? \")\r\n",
        "\r\n",
        "print(\"Mi nombre es\", Nombre, Apellido)"
      ],
      "execution_count": null,
      "outputs": [
        {
          "output_type": "stream",
          "text": [
            "¿Cual es tu nombre?\n",
            "Angela\n",
            "¿Cuál es tu apellido? Zuñiga\n",
            "Minombre es Angela Zuñiga\n"
          ],
          "name": "stdout"
        }
      ]
    },
    {
      "cell_type": "markdown",
      "metadata": {
        "id": "_ohiSFcXs2bE"
      },
      "source": [
        "# ***Tarea***:)\r\n"
      ]
    },
    {
      "cell_type": "code",
      "metadata": {
        "id": "skolu-GNwAdd",
        "colab": {
          "base_uri": "https://localhost:8080/"
        },
        "outputId": "334e16f6-ff6c-4bbc-9607-df8a061ff868"
      },
      "source": [
        "print(\"¿Cual es tu nombre?\")\r\n",
        "Nombre = input()\r\n",
        "\r\n",
        "Apellido = input(\"¿Como te apellidas? \")\r\n",
        "\r\n",
        "Edad = input(\"¿Que edad tienes? \")\r\n",
        "\r\n",
        "Gustos = input(\"Menciona algo que te guste: \")\r\n",
        "\r\n",
        "print(\"Mi nombre es\", Nombre, Apellido,\" tengo\", Edad,\" años y me gusta\", Gustos)"
      ],
      "execution_count": 13,
      "outputs": [
        {
          "output_type": "stream",
          "text": [
            "¿Cual es tu nombre?\n",
            "Angela\n",
            "¿Como te apellidas? Zuñiga\n",
            "¿Que edad tienes? 17\n",
            "Menciona algo que te guste: dormir\n",
            "Mi nombre es Angela Zuñiga  tengo 17  años y me gusta dormir\n"
          ],
          "name": "stdout"
        }
      ]
    }
  ]
}